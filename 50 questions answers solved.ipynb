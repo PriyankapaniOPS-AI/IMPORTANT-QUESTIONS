{
 "cells": [
  {
   "cell_type": "markdown",
   "id": "d40e1fef-6344-4448-b3f3-ef4eba9402fc",
   "metadata": {},
   "source": [
    "# 50 QUESTIONS SOLVED"
   ]
  },
  {
   "cell_type": "code",
   "execution_count": 4,
   "id": "f5c552a8-ad8e-438d-963b-a9c84ac8f86d",
   "metadata": {},
   "outputs": [
    {
     "name": "stdin",
     "output_type": "stream",
     "text": [
      "enter the number -4\n"
     ]
    },
    {
     "name": "stdout",
     "output_type": "stream",
     "text": [
      "negative number\n"
     ]
    }
   ],
   "source": [
    "# check if a number is positive or negative\n",
    "num= int(input('enter the number'))\n",
    "if num >=0:\n",
    "         print('positive number')\n",
    "else:\n",
    "         print('negative number')\n"
   ]
  },
  {
   "cell_type": "code",
   "execution_count": 10,
   "id": "f2e968e6-e14d-4f6b-b9e5-e382d33826fa",
   "metadata": {},
   "outputs": [
    {
     "name": "stdin",
     "output_type": "stream",
     "text": [
      "enter the number 5 6 7 8 9\n"
     ]
    },
    {
     "name": "stdout",
     "output_type": "stream",
     "text": [
      "['5', '6', '7', '8', '9']\n"
     ]
    }
   ],
   "source": [
    "# convert to list of integers\n",
    "num= input(\"enter the number\")\n",
    "num1=num.split(\" \")\n",
    "print(num1)"
   ]
  },
  {
   "cell_type": "code",
   "execution_count": 11,
   "id": "0c68652f-2eb2-40ad-b57a-87c2e2a793c3",
   "metadata": {},
   "outputs": [
    {
     "name": "stdin",
     "output_type": "stream",
     "text": [
      "enter the char hello everyone\n"
     ]
    },
    {
     "name": "stdout",
     "output_type": "stream",
     "text": [
      "HELLO EVERYONE\n"
     ]
    }
   ],
   "source": [
    "# convert the string to uppercase\n",
    "str= input(\"enter the char\")\n",
    "str1= str.upper()\n",
    "print(str1)"
   ]
  },
  {
   "cell_type": "code",
   "execution_count": 71,
   "id": "b8ce159d-e83f-4184-bbd2-d3d5695c8b5c",
   "metadata": {},
   "outputs": [
    {
     "name": "stdin",
     "output_type": "stream",
     "text": [
      "enter the string priya\n"
     ]
    },
    {
     "name": "stdout",
     "output_type": "stream",
     "text": [
      "the count of i is: 1\n",
      "the count of a is: 1\n"
     ]
    }
   ],
   "source": [
    "#print the number of vowels in the string\n",
    "vowels= 'aeiou'\n",
    "str= input(\"enter the string\").lower()\n",
    "for x in str:\n",
    "    if x in vowels:\n",
    "        print(f\"the count of {x} is:\", str.count(x))\n",
    "        \n"
   ]
  },
  {
   "cell_type": "code",
   "execution_count": 46,
   "id": "82e3eee1-46c9-4a52-9003-f4c518aaec23",
   "metadata": {},
   "outputs": [
    {
     "name": "stdin",
     "output_type": "stream",
     "text": [
      "entr the string aeioughhjgggjggf\n"
     ]
    },
    {
     "name": "stdout",
     "output_type": "stream",
     "text": [
      "the number of vowels 5\n"
     ]
    }
   ],
   "source": [
    "#method2\n",
    "str=input(\"entr the string\").lower()\n",
    "vowels=str.count(\"a\")+str.count(\"e\")+str.count(\"i\")+str.count(\"o\")+str.count(\"u\")\n",
    "print(\"the number of vowels\",vowels)"
   ]
  },
  {
   "cell_type": "code",
   "execution_count": 47,
   "id": "b0a7f1df-f590-47ca-940f-e36ccba18eb3",
   "metadata": {},
   "outputs": [
    {
     "name": "stdin",
     "output_type": "stream",
     "text": [
      "enter the number 5\n"
     ]
    },
    {
     "name": "stdout",
     "output_type": "stream",
     "text": [
      "odd number\n"
     ]
    }
   ],
   "source": [
    "#check if it is even or odd number\n",
    "num= int(input(\"enter the number\"))\n",
    "if num%2 == 0:\n",
    "    print(\"even number\")\n",
    "else:\n",
    "    print(\"odd number\")\n"
   ]
  },
  {
   "cell_type": "code",
   "execution_count": 52,
   "id": "98fdabde-e1f3-4cea-9bd8-b19f0c8d805f",
   "metadata": {},
   "outputs": [
    {
     "name": "stdin",
     "output_type": "stream",
     "text": [
      "enter the str roor\n"
     ]
    },
    {
     "name": "stdout",
     "output_type": "stream",
     "text": [
      "its a palindrome\n"
     ]
    }
   ],
   "source": [
    "#check if the string is palindrome\n",
    "text= input(\"enter the str\").lower()\n",
    "if text==text[::-1]:\n",
    "    print(\"its a palindrome\")\n",
    "else:\n",
    "    print(\"its not palindrome\")\n"
   ]
  },
  {
   "cell_type": "code",
   "execution_count": 72,
   "id": "c895da6a-f2d3-4052-b485-5c7908ce8b26",
   "metadata": {},
   "outputs": [
    {
     "name": "stdin",
     "output_type": "stream",
     "text": [
      "enter the number 5\n"
     ]
    },
    {
     "name": "stdout",
     "output_type": "stream",
     "text": [
      "the square of the number 25\n"
     ]
    }
   ],
   "source": [
    "# write a program that takes input and print its square\n",
    "num= int(input(\"enter the number\"))\n",
    "squre= num**2\n",
    "print(\"the square of the number\",squre)"
   ]
  },
  {
   "cell_type": "code",
   "execution_count": 74,
   "id": "7a5d5a21-de54-435b-afe2-c409ed2c464b",
   "metadata": {},
   "outputs": [
    {
     "name": "stdin",
     "output_type": "stream",
     "text": [
      "enter the number 90\n"
     ]
    },
    {
     "name": "stdout",
     "output_type": "stream",
     "text": [
      "the number divisible by 3\n"
     ]
    }
   ],
   "source": [
    "#write a program whether divisible by 3\n",
    "num=int(input(\"enter the number\"))\n",
    "if num%3==0:\n",
    "    print(\"the number divisible by 3\")\n",
    "else:\n",
    "    print(\"the number not divisible by 3\")"
   ]
  },
  {
   "cell_type": "code",
   "execution_count": 76,
   "id": "e53bb1ba-0cc6-4b27-8190-61600d7ced99",
   "metadata": {},
   "outputs": [
    {
     "name": "stdin",
     "output_type": "stream",
     "text": [
      "enter the number 21\n"
     ]
    },
    {
     "name": "stdout",
     "output_type": "stream",
     "text": [
      "its divisible by both 3 and 7\n"
     ]
    }
   ],
   "source": [
    "#check if number divisible by both 3 and 7\n",
    "num =int(input(\"enter the number\"))\n",
    "if num%3==0 and num%7==0:\n",
    "         print(\"its divisible by both 3 and 7\")\n",
    "else:\n",
    "         print(\"not divisible by 3 and 7\")\n"
   ]
  },
  {
   "cell_type": "code",
   "execution_count": 80,
   "id": "835611f5-8a77-413e-926e-6c12fb4de3e3",
   "metadata": {},
   "outputs": [
    {
     "name": "stdin",
     "output_type": "stream",
     "text": [
      "enter the str tea coffee milk\n"
     ]
    },
    {
     "name": "stdout",
     "output_type": "stream",
     "text": [
      "['tea', 'coffee', 'milk']\n"
     ]
    }
   ],
   "source": [
    "#how do you accept comma separated values\n",
    "str= input(\"enter the str\")\n",
    "str1=str.split(\" \")\n",
    "print(str1)\n"
   ]
  },
  {
   "cell_type": "code",
   "execution_count": 81,
   "id": "f9bc45a0-3b88-4b63-9f41-b0188cf7e673",
   "metadata": {},
   "outputs": [
    {
     "name": "stdin",
     "output_type": "stream",
     "text": [
      "enter the first number 4\n",
      "enter the second number 5\n"
     ]
    },
    {
     "name": "stdout",
     "output_type": "stream",
     "text": [
      "the product of two numbers 20\n"
     ]
    }
   ],
   "source": [
    "# print product of two numbers\n",
    "num1= int(input(\"enter the first number\"))\n",
    "num2= int(input(\"enter the second number\"))\n",
    "prod= num1 * num2\n",
    "print(\"the product of two numbers\",prod)"
   ]
  },
  {
   "cell_type": "code",
   "execution_count": 14,
   "id": "4253cb3d-ae20-4fbe-a5a3-5dea0ba32138",
   "metadata": {},
   "outputs": [
    {
     "name": "stdin",
     "output_type": "stream",
     "text": [
      "enter the number 5\n"
     ]
    },
    {
     "name": "stdout",
     "output_type": "stream",
     "text": [
      "its a prime number\n"
     ]
    }
   ],
   "source": [
    "# write a python program to check whether it is prime or not\n",
    "num= int(input(\"enter the number\"))\n",
    "if num>1:\n",
    "  for i in range(2,num):\n",
    "    if num%i==0:\n",
    "        print(\"its not prime number\")\n",
    "        break\n",
    "  else:\n",
    "    print(\"its a prime number\")\n",
    "else:\n",
    "    print(\"its not prime number\")"
   ]
  },
  {
   "cell_type": "code",
   "execution_count": 15,
   "id": "268e4e64-5f73-4c1e-9012-d7a8b3a71e61",
   "metadata": {},
   "outputs": [
    {
     "name": "stdin",
     "output_type": "stream",
     "text": [
      "enter True or False: TRUE\n"
     ]
    },
    {
     "name": "stdout",
     "output_type": "stream",
     "text": [
      "True:1\n"
     ]
    }
   ],
   "source": [
    "# how to accept boolean value from user\n",
    "st= input(\"enter True or False:\").lower()\n",
    "if st==\"true\":\n",
    "    print(\"True:1\")\n",
    "else:\n",
    "    print(\"False:0\")"
   ]
  },
  {
   "cell_type": "code",
   "execution_count": 17,
   "id": "968b6cfa-4b6d-415b-8dd2-2940be7b7225",
   "metadata": {},
   "outputs": [
    {
     "name": "stdin",
     "output_type": "stream",
     "text": [
      "enter the string datascience\n"
     ]
    },
    {
     "name": "stdout",
     "output_type": "stream",
     "text": [
      "ecneicsatad\n"
     ]
    }
   ],
   "source": [
    "#write a program that prints reverse of the string\n",
    "s= input(\"enter the string\")\n",
    "s1=s[::-1]\n",
    "print(s1)"
   ]
  },
  {
   "cell_type": "code",
   "execution_count": 18,
   "id": "5fd60539-e859-43e6-8bb0-f286e6fdd64c",
   "metadata": {},
   "outputs": [
    {
     "name": "stdin",
     "output_type": "stream",
     "text": [
      "enter your name:  priya\n",
      "enter your age:  20\n"
     ]
    },
    {
     "name": "stdout",
     "output_type": "stream",
     "text": [
      "HELLO priya, your age is 20\n"
     ]
    }
   ],
   "source": [
    "#write a program that asks username and age and print amessage\n",
    "name= input(\"enter your name: \")\n",
    "age = int(input(\"enter your age: \"))\n",
    "print(f\"HELLO {name}, your age is {age}\")"
   ]
  },
  {
   "cell_type": "code",
   "execution_count": 105,
   "id": "c53679ad-b69f-4e0d-8d66-33f18b9fc257",
   "metadata": {},
   "outputs": [
    {
     "name": "stdin",
     "output_type": "stream",
     "text": [
      "enter the number 7\n"
     ]
    },
    {
     "name": "stdout",
     "output_type": "stream",
     "text": [
      "the factorial of the number is: 5040\n"
     ]
    }
   ],
   "source": [
    "#### write a program to calculate factorial of a number\n",
    "n= int(input(\"enter the number\"))\n",
    "if n== 0 ^ 1:\n",
    "    print(\"the factorial is 1\")\n",
    "elif n<0:\n",
    "        print(\"there is no factorial for negative numbers\")\n",
    "else:   \n",
    "        result=1\n",
    "        while (n>1):\n",
    "            result=result*n\n",
    "            n-=1\n",
    "        print(\"the factorial of the number is:\",result)"
   ]
  },
  {
   "cell_type": "code",
   "execution_count": 8,
   "id": "f8af8f11-4862-4530-91ab-6f04f0c0c75f",
   "metadata": {},
   "outputs": [
    {
     "name": "stdin",
     "output_type": "stream",
     "text": [
      "enter the string  \n"
     ]
    },
    {
     "name": "stdout",
     "output_type": "stream",
     "text": [
      "please dont input empty space\n"
     ]
    }
   ],
   "source": [
    "#write a program that user cannot input empty space\n",
    "str= input(\"enter the string\").strip()\n",
    "if not str:\n",
    "  print(\"please dont input empty space\")\n",
    "else:\n",
    "  print(str)\n"
   ]
  },
  {
   "cell_type": "code",
   "execution_count": 26,
   "id": "3e2e29a7-14d0-457b-93e9-4c71d201b8d3",
   "metadata": {},
   "outputs": [
    {
     "name": "stdin",
     "output_type": "stream",
     "text": [
      "enter the number 25\n"
     ]
    },
    {
     "name": "stdout",
     "output_type": "stream",
     "text": [
      "its the perfect square\n"
     ]
    }
   ],
   "source": [
    "#write a program to check if the entered number is a perfect square\n",
    "import math\n",
    "n= int(input(\"enter the number\"))\n",
    "if math.sqrt(n)**2==n:\n",
    "    print(\"its the perfect square\")\n",
    "else:\n",
    "    print(\"its not the square of any number\")"
   ]
  },
  {
   "cell_type": "code",
   "execution_count": 30,
   "id": "caed7ef8-8087-41fa-83b9-53609ea700aa",
   "metadata": {},
   "outputs": [
    {
     "name": "stdin",
     "output_type": "stream",
     "text": [
      "enter the year 2020000000\n"
     ]
    },
    {
     "name": "stdout",
     "output_type": "stream",
     "text": [
      "its a leap year\n"
     ]
    }
   ],
   "source": [
    "#write a program that asks user for a year and check whether its leap year or not\n",
    "n = int(input(\"enter the year\"))\n",
    "if n%4==0:\n",
    "    print(\"its a leap year\")\n",
    "else:\n",
    "    print(\"its not leap year\")"
   ]
  },
  {
   "cell_type": "code",
   "execution_count": 31,
   "id": "601a9d3f-e290-406f-b5ce-1a8b57df585d",
   "metadata": {},
   "outputs": [
    {
     "name": "stdin",
     "output_type": "stream",
     "text": [
      "enter the string               heloooooooooooo\n"
     ]
    },
    {
     "name": "stdout",
     "output_type": "stream",
     "text": [
      "heloooooooooooo\n"
     ]
    }
   ],
   "source": [
    "#how to remove leading and trailing spaces\n",
    "str=input(\"enter the string\").strip()\n",
    "print(str)"
   ]
  },
  {
   "cell_type": "code",
   "execution_count": 34,
   "id": "18e79af4-b4df-4178-a93e-57f26610c858",
   "metadata": {},
   "outputs": [
    {
     "name": "stdin",
     "output_type": "stream",
     "text": [
      "enter the character 78899999\n"
     ]
    },
    {
     "name": "stdout",
     "output_type": "stream",
     "text": [
      "sorry this is not integer\n"
     ]
    }
   ],
   "source": [
    "#how do you handle incorrect inputs when you expect an integer\n",
    "n =input(\"Enter only integer value:\")\n",
    "if n not in range(0,10):\n",
    "    print(\"invalid integer! please input valid integer\")\n",
    "    \n"
   ]
  },
  {
   "cell_type": "code",
   "execution_count": 50,
   "id": "c3c66ed1-b90d-4dea-b261-ee081d14021c",
   "metadata": {},
   "outputs": [
    {
     "name": "stdin",
     "output_type": "stream",
     "text": [
      "Enter only integer value: yhhh\n"
     ]
    },
    {
     "name": "stdout",
     "output_type": "stream",
     "text": [
      " enter only integer value\n"
     ]
    }
   ],
   "source": [
    "n=input(\"Enter only integer value:\")\n",
    "\n",
    "if n.isalnum() and n.isalpha()== True:\n",
    "    print(\" enter only integer value\")\n",
    "else:\n",
    "   print(\"Entered  integer value is:\",n)\n"
   ]
  },
  {
   "cell_type": "code",
   "execution_count": 2,
   "id": "0c9c9642-bc8c-4fbe-9b52-7a600a48fb88",
   "metadata": {},
   "outputs": [
    {
     "name": "stdin",
     "output_type": "stream",
     "text": [
      "enter the text you are excellent\n",
      "enter the char you want to be counted e\n"
     ]
    },
    {
     "name": "stdout",
     "output_type": "stream",
     "text": [
      "the total number of e is 4\n"
     ]
    }
   ],
   "source": [
    "#write a program to count a particular character in the string\n",
    "str= input(\"enter the text\")\n",
    "char=input(\"enter the char you want to be counted\")\n",
    "total=str.count(char)\n",
    "print(f\"the total number of {char} is {total}\")\n"
   ]
  },
  {
   "cell_type": "code",
   "execution_count": 4,
   "id": "6b41691c-a270-419a-996e-0fc4c5add5f2",
   "metadata": {},
   "outputs": [
    {
     "name": "stdin",
     "output_type": "stream",
     "text": [
      "enter your text WELCOME EVERYONE!!!    how are you?\n"
     ]
    },
    {
     "name": "stdout",
     "output_type": "stream",
     "text": [
      "here is your text in lowercase: welcome everyone!!!    how are you?\n"
     ]
    }
   ],
   "source": [
    "#how to convert user input to lowercase\n",
    "tex= input(\"enter your text\").lower()\n",
    "print(f\"here is your text in lowercase: {tex}\")"
   ]
  },
  {
   "cell_type": "code",
   "execution_count": 6,
   "id": "83e58042-8820-47aa-825e-2c1af2e11fe4",
   "metadata": {},
   "outputs": [
    {
     "name": "stdin",
     "output_type": "stream",
     "text": [
      "enter the number 300000\n"
     ]
    },
    {
     "name": "stdout",
     "output_type": "stream",
     "text": [
      "its multiple of 10\n"
     ]
    }
   ],
   "source": [
    "#check whether it is multiple of 10\n",
    "n= int(input(\"enter the number\"))\n",
    "if n%10==0:\n",
    "       print(\"its multiple of 10\")\n",
    "else:\n",
    "       print(\"its not multiple of 10\")\n"
   ]
  },
  {
   "cell_type": "code",
   "execution_count": 18,
   "id": "a4d8df79-9515-4085-9790-afcd4c4d31ae",
   "metadata": {},
   "outputs": [
    {
     "name": "stdin",
     "output_type": "stream",
     "text": [
      "enter the alphabets only            hellllooooo     \n"
     ]
    },
    {
     "name": "stdout",
     "output_type": "stream",
     "text": [
      "this text contains alphabets only\n"
     ]
    }
   ],
   "source": [
    "#check the string contains only alphabet\n",
    "text= input(\"enter the alphabets only\").strip()\n",
    "if text.isalpha():\n",
    "    print(\"this text contains alphabets only\")\n",
    "else:\n",
    "    print(\"its nonalphabetic\")"
   ]
  },
  {
   "cell_type": "code",
   "execution_count": 35,
   "id": "8e2a7463-0a3e-4153-aad3-90247bd46bbf",
   "metadata": {},
   "outputs": [
    {
     "name": "stdin",
     "output_type": "stream",
     "text": [
      "enter your sentence good morning everyone\n"
     ]
    },
    {
     "name": "stdout",
     "output_type": "stream",
     "text": [
      "the total number of words in the sentence 3\n"
     ]
    }
   ],
   "source": [
    "#write a program to check the number of words in a sentence\n",
    "text= input(\"enter your sentence\").split()\n",
    "\n",
    "print(\"the total number of words in the sentence\",len(text))\n"
   ]
  },
  {
   "cell_type": "code",
   "execution_count": 4,
   "id": "0cd63831-f037-4fc2-9dc6-567d8773fdae",
   "metadata": {},
   "outputs": [
    {
     "name": "stdin",
     "output_type": "stream",
     "text": [
      "enter the year:YYYY-MM-DD 2025-06-17\n"
     ]
    },
    {
     "name": "stdout",
     "output_type": "stream",
     "text": [
      "enterd date is 2025-06-17 00:00:00\n"
     ]
    }
   ],
   "source": [
    "#how to accept a date input from user\n",
    "from datetime import datetime\n",
    "date= input(\"enter the year:YYYY-MM-DD\")\n",
    "d=datetime.strptime(date,\"%Y-%m-%d\")\n",
    "print(\"enterd date is\",d)\n"
   ]
  },
  {
   "cell_type": "code",
   "execution_count": 6,
   "id": "49e142a4-cd17-4828-aa16-e722c7fd4ed1",
   "metadata": {},
   "outputs": [
    {
     "name": "stdin",
     "output_type": "stream",
     "text": [
      "enter the integer 15\n"
     ]
    },
    {
     "name": "stdout",
     "output_type": "stream",
     "text": [
      "the number is divisible by both 3 and 5\n"
     ]
    }
   ],
   "source": [
    "#check if the integer divisible by both 3 and 5\n",
    "n= int(input(\"enter the integer\"))\n",
    "if n%3==0 and n%5==0:\n",
    "       print(\"the number is divisible by both 3 and 5\")\n",
    "else:\n",
    "    print(\"number not divisible by both 3 and 5\")"
   ]
  },
  {
   "cell_type": "code",
   "execution_count": 7,
   "id": "6918445f-5740-4cb2-9abc-8fc9f0b1088d",
   "metadata": {},
   "outputs": [
    {
     "name": "stdin",
     "output_type": "stream",
     "text": [
      "enter the first number 10\n",
      "enter the second number 20\n"
     ]
    },
    {
     "name": "stdout",
     "output_type": "stream",
     "text": [
      "values have been swapped, first number is 20 and second number is 10\n"
     ]
    }
   ],
   "source": [
    "#write a program to swap values of two variables\n",
    "x= int(input(\"enter the first number\"))\n",
    "y= int(input(\"enter the second number\"))\n",
    "x,y=y,x\n",
    "print(f\"values have been swapped, first number is {x} and second number is {y}\")"
   ]
  },
  {
   "cell_type": "code",
   "execution_count": 3,
   "id": "4040bae1-2ccc-4c1b-be54-1ca0fd776e17",
   "metadata": {},
   "outputs": [
    {
     "name": "stdin",
     "output_type": "stream",
     "text": [
      "enter your text shall we go for picnic?\n"
     ]
    },
    {
     "name": "stdout",
     "output_type": "stream",
     "text": [
      "here is your text without spaces:  shallwegoforpicnic?\n"
     ]
    }
   ],
   "source": [
    "#write a program to take user input and print without spaces\n",
    "text= input(\"enter your text\")\n",
    "s= text.replace(\" \",\"\")\n",
    "print(\"here is your text without spaces: \",s)"
   ]
  },
  {
   "cell_type": "code",
   "execution_count": 18,
   "id": "68dbd2a5-88c8-4ed4-931f-6bc02fd555d2",
   "metadata": {},
   "outputs": [
    {
     "name": "stdin",
     "output_type": "stream",
     "text": [
      "enter your mail abc12345@gmail.com\n"
     ]
    },
    {
     "name": "stdout",
     "output_type": "stream",
     "text": [
      "valid email\n"
     ]
    }
   ],
   "source": [
    "# how to validate if the entered email is valid or not\n",
    "import re\n",
    "email=input(\"enter your mail\")\n",
    "if re.match(r\"[^@]+@[^@]+\\.[^@]\",email):\n",
    "    print(\"valid email\")\n",
    "else:\n",
    "    print(\"invalid email\")"
   ]
  },
  {
   "cell_type": "code",
   "execution_count": 19,
   "id": "46ccbf68-ee84-4f8e-a8e3-5233768b0730",
   "metadata": {},
   "outputs": [
    {
     "name": "stdin",
     "output_type": "stream",
     "text": [
      "enter the number 6\n"
     ]
    },
    {
     "name": "stdout",
     "output_type": "stream",
     "text": [
      "its cube is,  216\n"
     ]
    }
   ],
   "source": [
    "#write a program to accept number and print its cube\n",
    "int= int(input(\"enter the number\"))\n",
    "cube= int**3\n",
    "print(\"its cube is, \",cube)"
   ]
  },
  {
   "cell_type": "code",
   "execution_count": 20,
   "id": "922d6748-8adc-4b32-ba0a-70d854965667",
   "metadata": {},
   "outputs": [
    {
     "name": "stdin",
     "output_type": "stream",
     "text": [
      "enter the names reema sima mina tina lima\n"
     ]
    },
    {
     "name": "stdout",
     "output_type": "stream",
     "text": [
      "here are the list of names ['reema', 'sima', 'mina', 'tina', 'lima']\n"
     ]
    }
   ],
   "source": [
    "#how to accept and store multiple names from user\n",
    "names= input(\"enter the names\").split()\n",
    "print(\"here are the list of names\",names)"
   ]
  },
  {
   "cell_type": "code",
   "execution_count": 23,
   "id": "e7368f26-5b21-4210-8857-6f1a70046098",
   "metadata": {},
   "outputs": [
    {
     "name": "stdin",
     "output_type": "stream",
     "text": [
      "enter the text ab2cd4fg5hi7un8jk9lm0\n"
     ]
    },
    {
     "name": "stdout",
     "output_type": "stream",
     "text": [
      "the extracted numbers from text ['2', '4', '5', '7', '8', '9', '0']\n"
     ]
    }
   ],
   "source": [
    "#how to extract numbers from the string\n",
    "import re\n",
    "text=input(\"enter the text\")\n",
    "s= re.findall(r\"\\d+\",text)\n",
    "print(\"the extracted numbers from text\",s)\n"
   ]
  },
  {
   "cell_type": "code",
   "execution_count": 102,
   "id": "db6a6fc1-f175-485a-8547-fb8a7c35f094",
   "metadata": {},
   "outputs": [
    {
     "name": "stdin",
     "output_type": "stream",
     "text": [
      "enter the list of numbers with commas 10,30,20,400,2,3,5\n"
     ]
    },
    {
     "name": "stdout",
     "output_type": "stream",
     "text": [
      "the maximum number is   400\n"
     ]
    }
   ],
   "source": [
    "#how to find the maximum number from list of numbers\n",
    "list=eval(input(\"enter the list of numbers with commas\"))\n",
    "m=sorted(list)\n",
    "print(\"the maximum number is  \",m[-1])\n",
    "\n",
    "\n",
    "\n"
   ]
  },
  {
   "cell_type": "code",
   "execution_count": 9,
   "id": "6251cd96-1211-48b3-8aee-8015077c9490",
   "metadata": {},
   "outputs": [
    {
     "name": "stdin",
     "output_type": "stream",
     "text": [
      "enter the list of words with spaces hhh hguhu gyyuyyuiyfr jj\n"
     ]
    },
    {
     "name": "stdout",
     "output_type": "stream",
     "text": [
      "the length of longest word is  11\n",
      "the longest word is gyyuyyuiyfr\n"
     ]
    }
   ],
   "source": [
    "#write a program that prints longest words\n",
    "text= input(\"enter the list of words with spaces\").split()\n",
    "l=[]\n",
    "for x in text:\n",
    "    a=len(x)\n",
    "    l.append(a)\n",
    "print(\"the length of longest word is \",max(l))\n",
    "print(\"the longest word is\",max(text,key=len))\n",
    "\n",
    "    \n",
    "\n",
    "    "
   ]
  },
  {
   "cell_type": "code",
   "execution_count": null,
   "id": "02212f70-e0a9-4495-b0ed-842a5ae6947f",
   "metadata": {},
   "outputs": [],
   "source": [
    "#check if a string contains any punctuation\n",
    "\n",
    "\n",
    "\n",
    "\n",
    "\n",
    "\n",
    "\n",
    "\n",
    "\n"
   ]
  },
  {
   "cell_type": "code",
   "execution_count": 51,
   "id": "0ad63e7f-f398-4143-b644-b79c77a75efc",
   "metadata": {},
   "outputs": [
    {
     "name": "stdin",
     "output_type": "stream",
     "text": [
      "enter the string yhhhwelcome\n"
     ]
    },
    {
     "name": "stdout",
     "output_type": "stream",
     "text": [
      "the number of consonant c in the text is 1\n",
      "the number of consonant h in the text is 3\n",
      "the number of consonant l in the text is 1\n",
      "the number of consonant m in the text is 1\n",
      "the number of consonant w in the text is 1\n",
      "the number of consonant y in the text is 1\n"
     ]
    }
   ],
   "source": [
    "#write a program to find number of consonants in a strings\n",
    "text=input(\"enter the string\")\n",
    "l='bcdfghjklmnpqrstvwxyz'\n",
    "for x in l:\n",
    "  if x in text:\n",
    "     print(f\"the number of consonant {x} in the text is {text.count(x)}\")"
   ]
  },
  {
   "cell_type": "code",
   "execution_count": 59,
   "id": "49fbdcc8-2acc-4e5c-a6c4-34839861486f",
   "metadata": {},
   "outputs": [
    {
     "name": "stdin",
     "output_type": "stream",
     "text": [
      "enter the list of numbers 4 5 6 7\n"
     ]
    },
    {
     "name": "stdout",
     "output_type": "stream",
     "text": [
      "[4, 5, 6, 7]\n",
      "5.5\n"
     ]
    }
   ],
   "source": [
    "#write a program to find average of list of numbers\n",
    "n=list(map(int,input(\"enter the list of numbers\").split()))\n",
    "print(n)\n",
    "avg=sum(n)/len(n)\n",
    "print(avg)"
   ]
  },
  {
   "cell_type": "code",
   "execution_count": 60,
   "id": "fc032cdb-b51a-4e1b-9db0-49c0a93b2780",
   "metadata": {},
   "outputs": [
    {
     "name": "stdin",
     "output_type": "stream",
     "text": [
      "enter the temperature 35\n"
     ]
    },
    {
     "name": "stdout",
     "output_type": "stream",
     "text": [
      "the temperature in fahrenhit is 95.0 F\n"
     ]
    }
   ],
   "source": [
    "#write a program to convert celsius to fahrenhit\n",
    "\n",
    "c= int(input(\"enter the temperature\"))\n",
    "f= (c*9/5)+32\n",
    "print(f\"the temperature in fahrenhit is {f} F\")\n"
   ]
  },
  {
   "cell_type": "code",
   "execution_count": 69,
   "id": "1cca213b-254b-4095-bb79-085b1255aca6",
   "metadata": {},
   "outputs": [
    {
     "name": "stdin",
     "output_type": "stream",
     "text": [
      "enter the text success\n"
     ]
    },
    {
     "name": "stdout",
     "output_type": "stream",
     "text": [
      "its a valid text\n"
     ]
    }
   ],
   "source": [
    "#check if string entered by user contains uppercase\n",
    "s= input(\"enter the text\")\n",
    "if s==s.upper():\n",
    "    print(\"the text should be in lowercase\")\n",
    "else:\n",
    "    print(\"its a valid text\")\n"
   ]
  },
  {
   "cell_type": "code",
   "execution_count": 68,
   "id": "a27e476e-05e7-4151-8a87-13d345cf4229",
   "metadata": {},
   "outputs": [
    {
     "name": "stdin",
     "output_type": "stream",
     "text": [
      "enter success\n"
     ]
    },
    {
     "name": "stdout",
     "output_type": "stream",
     "text": [
      "no uppercase\n"
     ]
    }
   ],
   "source": [
    "s=input(\"enter\")\n",
    "if any (char.isupper() for char in s):\n",
    "    print(\"contain uppercase\")\n",
    "else:\n",
    "    print(\"no uppercase\")"
   ]
  },
  {
   "cell_type": "code",
   "execution_count": 73,
   "id": "dcc55aec-50d3-46a0-b39b-9903096dca5e",
   "metadata": {},
   "outputs": [
    {
     "name": "stdin",
     "output_type": "stream",
     "text": [
      "enter the integer -10\n"
     ]
    },
    {
     "name": "stdout",
     "output_type": "stream",
     "text": [
      "the absolute value is 10\n"
     ]
    }
   ],
   "source": [
    "#find the absolute value\n",
    "n= int(input(\"enter the integer\"))\n",
    "print(\"the absolute value is\",abs(n))"
   ]
  },
  {
   "cell_type": "code",
   "execution_count": 174,
   "id": "779ebfef-db52-483d-9e09-3fc7dd094d9d",
   "metadata": {},
   "outputs": [
    {
     "name": "stdin",
     "output_type": "stream",
     "text": [
      "enter the list of numbers with space 10 20 30\n"
     ]
    },
    {
     "name": "stdout",
     "output_type": "stream",
     "text": [
      "the total sum is  60\n"
     ]
    }
   ],
   "source": [
    "#write a program to find the sum of list of numbers\n",
    "n=list(map(int,input(\"enter the list of numbers with space\").split()))\n",
    "s= sum(n)\n",
    "print(\"the total sum is \",s)"
   ]
  },
  {
   "cell_type": "code",
   "execution_count": 2,
   "id": "f83b9747-8dd5-4282-b7d7-5a76a7793112",
   "metadata": {},
   "outputs": [
    {
     "name": "stdin",
     "output_type": "stream",
     "text": [
      "enter the white space only                \n"
     ]
    },
    {
     "name": "stdout",
     "output_type": "stream",
     "text": [
      "it contains only white space\n"
     ]
    }
   ],
   "source": [
    "#write a program to check whether it has only white space\n",
    "text= input(\"enter the white space only\")\n",
    "if text.isspace():\n",
    "    print(\"it contains only white space\")\n",
    "else:\n",
    "    print(\"non space\")"
   ]
  },
  {
   "cell_type": "code",
   "execution_count": null,
   "id": "f9927bcf-6700-4704-9af8-c393d6301e81",
   "metadata": {},
   "outputs": [],
   "source": [
    "#write a program to check if the entered string has only integers\n",
    "n= input(\"enter the digits only\")\n",
    "if any(x.isalpha() for x in n):\n",
    "    print(\"its not va"
   ]
  }
 ],
 "metadata": {
  "kernelspec": {
   "display_name": "Python [conda env:base] *",
   "language": "python",
   "name": "conda-base-py"
  },
  "language_info": {
   "codemirror_mode": {
    "name": "ipython",
    "version": 3
   },
   "file_extension": ".py",
   "mimetype": "text/x-python",
   "name": "python",
   "nbconvert_exporter": "python",
   "pygments_lexer": "ipython3",
   "version": "3.12.7"
  }
 },
 "nbformat": 4,
 "nbformat_minor": 5
}
